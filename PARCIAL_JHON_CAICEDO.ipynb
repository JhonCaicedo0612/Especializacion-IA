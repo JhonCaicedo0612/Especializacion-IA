{
  "nbformat": 4,
  "nbformat_minor": 0,
  "metadata": {
    "colab": {
      "provenance": [],
      "authorship_tag": "ABX9TyMhOVxKHgFsOXBokfcbOYAe",
      "include_colab_link": true
    },
    "kernelspec": {
      "name": "python3",
      "display_name": "Python 3"
    },
    "language_info": {
      "name": "python"
    }
  },
  "cells": [
    {
      "cell_type": "markdown",
      "metadata": {
        "id": "view-in-github",
        "colab_type": "text"
      },
      "source": [
        "<a href=\"https://colab.research.google.com/github/JhonCaicedo0612/Especializacion-IA/blob/main/PARCIAL_JHON_CAICEDO.ipynb\" target=\"_parent\"><img src=\"https://colab.research.google.com/assets/colab-badge.svg\" alt=\"Open In Colab\"/></a>"
      ]
    },
    {
      "cell_type": "code",
      "execution_count": 5,
      "metadata": {
        "colab": {
          "base_uri": "https://localhost:8080/"
        },
        "id": "fbxTy_T4EgSq",
        "outputId": "b4e24343-0552-4063-bfc3-eaec3093014d"
      },
      "outputs": [
        {
          "output_type": "stream",
          "name": "stdout",
          "text": [
            "['e', 'r', 'a', 'i', 't', 'n', 'm', 'o', 's', 'h', 'd', 'u', 'l', 'f', 'c', 'v', 'g', 'x', 'y', 'w', 'b', 'p', 'k', 'q', 'j', 'z']\n",
            " mensaje cifredo: zc hdzq tr zdytzir gqstzir zqltgtir sezzdhgql ea nmq dlztqr ea nmq helnm fqhqldu ea nmq aquty uqftehr dhg uecdu rqlodhn ne nmq nliq qzvqlel zdlsir dilqutir adnmql ne d zilgqlqg reh mirbdhg ne d zilgqlqg ktaq dhg t ktuu mdoq zc oqhfqdhsq th nmtr utaq el nmq hqyn\n",
            "{'q': 'e'}\n",
            "{'q': 'e', 'l': 'r'}\n",
            "{'q': 'e', 'l': 'r', 'd': 'a'}\n",
            "{'q': 'e', 'l': 'r', 'd': 'a', 't': 'i'}\n",
            "{'q': 'e', 'l': 'r', 'd': 'a', 't': 'i', 'n': 't'}\n",
            "{'q': 'e', 'l': 'r', 'd': 'a', 't': 'i', 'n': 't', 'h': 'n'}\n",
            "{'q': 'e', 'l': 'r', 'd': 'a', 't': 'i', 'n': 't', 'h': 'n', 'z': 'm'}\n",
            "{'q': 'e', 'l': 'r', 'd': 'a', 't': 'i', 'n': 't', 'h': 'n', 'z': 'm', 'e': 'o'}\n",
            "{'q': 'e', 'l': 'r', 'd': 'a', 't': 'i', 'n': 't', 'h': 'n', 'z': 'm', 'e': 'o', 'r': 's'}\n",
            "{'q': 'e', 'l': 'r', 'd': 'a', 't': 'i', 'n': 't', 'h': 'n', 'z': 'm', 'e': 'o', 'r': 's', 'm': 'h'}\n",
            "{'q': 'e', 'l': 'r', 'd': 'a', 't': 'i', 'n': 't', 'h': 'n', 'z': 'm', 'e': 'o', 'r': 's', 'm': 'h', 'g': 'd'}\n",
            "{'q': 'e', 'l': 'r', 'd': 'a', 't': 'i', 'n': 't', 'h': 'n', 'z': 'm', 'e': 'o', 'r': 's', 'm': 'h', 'g': 'd', 'i': 'u'}\n",
            "{'q': 'e', 'l': 'r', 'd': 'a', 't': 'i', 'n': 't', 'h': 'n', 'z': 'm', 'e': 'o', 'r': 's', 'm': 'h', 'g': 'd', 'i': 'u', 'u': 'l'}\n",
            "{'q': 'e', 'l': 'r', 'd': 'a', 't': 'i', 'n': 't', 'h': 'n', 'z': 'm', 'e': 'o', 'r': 's', 'm': 'h', 'g': 'd', 'i': 'u', 'u': 'l', 'a': 'f'}\n",
            "{'q': 'e', 'l': 'r', 'd': 'a', 't': 'i', 'n': 't', 'h': 'n', 'z': 'm', 'e': 'o', 'r': 's', 'm': 'h', 'g': 'd', 'i': 'u', 'u': 'l', 'a': 'f', 's': 'c'}\n",
            "{'q': 'e', 'l': 'r', 'd': 'a', 't': 'i', 'n': 't', 'h': 'n', 'z': 'm', 'e': 'o', 'r': 's', 'm': 'h', 'g': 'd', 'i': 'u', 'u': 'l', 'a': 'f', 's': 'c', 'o': 'v'}\n",
            "{'q': 'e', 'l': 'r', 'd': 'a', 't': 'i', 'n': 't', 'h': 'n', 'z': 'm', 'e': 'o', 'r': 's', 'm': 'h', 'g': 'd', 'i': 'u', 'u': 'l', 'a': 'f', 's': 'c', 'o': 'v', 'f': 'g'}\n",
            "{'q': 'e', 'l': 'r', 'd': 'a', 't': 'i', 'n': 't', 'h': 'n', 'z': 'm', 'e': 'o', 'r': 's', 'm': 'h', 'g': 'd', 'i': 'u', 'u': 'l', 'a': 'f', 's': 'c', 'o': 'v', 'f': 'g', 'y': 'x'}\n",
            "{'q': 'e', 'l': 'r', 'd': 'a', 't': 'i', 'n': 't', 'h': 'n', 'z': 'm', 'e': 'o', 'r': 's', 'm': 'h', 'g': 'd', 'i': 'u', 'u': 'l', 'a': 'f', 's': 'c', 'o': 'v', 'f': 'g', 'y': 'x', 'c': 'y'}\n",
            "{'q': 'e', 'l': 'r', 'd': 'a', 't': 'i', 'n': 't', 'h': 'n', 'z': 'm', 'e': 'o', 'r': 's', 'm': 'h', 'g': 'd', 'i': 'u', 'u': 'l', 'a': 'f', 's': 'c', 'o': 'v', 'f': 'g', 'y': 'x', 'c': 'y', 'k': 'w'}\n",
            "{'q': 'e', 'l': 'r', 'd': 'a', 't': 'i', 'n': 't', 'h': 'n', 'z': 'm', 'e': 'o', 'r': 's', 'm': 'h', 'g': 'd', 'i': 'u', 'u': 'l', 'a': 'f', 's': 'c', 'o': 'v', 'f': 'g', 'y': 'x', 'c': 'y', 'k': 'w', 'b': 'b'}\n",
            "{'q': 'e', 'l': 'r', 'd': 'a', 't': 'i', 'n': 't', 'h': 'n', 'z': 'm', 'e': 'o', 'r': 's', 'm': 'h', 'g': 'd', 'i': 'u', 'u': 'l', 'a': 'f', 's': 'c', 'o': 'v', 'f': 'g', 'y': 'x', 'c': 'y', 'k': 'w', 'b': 'b', 'v': 'p'}\n",
            "zc hdzq tr zdytzir gqstzir zqltgtir sezzdhgql ea nmq dlztqr ea nmq helnm fqhqldu ea nmq aquty uqftehr dhg uecdu rqlodhn ne nmq nliq qzvqlel zdlsir dilqutir adnmql ne d zilgqlqg reh mirbdhg ne d zilgqlqg ktaq dhg t ktuu mdoq zc oqhfqdhsq th nmtr utaq el nmq hqyn\n",
            "mensaje_descifrado:\n",
            "my name is maximus decimus meridius commander of the armies of the north general of the felix legions and loyal servant to the true emperor marcus aurelius father to a murdered son husband to a murdered wife and i will have my vengeance in this life or the next\n"
          ]
        }
      ],
      "source": [
        "import pandas as pd\n",
        "path_file = 'LetterFrequency.xlsx'\n",
        "col_types = {\"Letter\": str, \"Count\": int}\n",
        "hoja = \"Hoja1\"\n",
        "df = pd.read_excel(path_file, sheet_name=hoja, dtype=col_types)\n",
        "ingles = list(df['Letter'])\n",
        "print(ingles)\n",
        "with open('mensaje.txt') as archivo:\n",
        "    mensaje = archivo.read()\n",
        "    print(\" mensaje cifredo: \" + mensaje)\n",
        "\n",
        "dict = {}  \n",
        "contador = 0  \n",
        "\n",
        "for letra in mensaje:  \n",
        "    if letra in dict: \n",
        "        if dict[letra] == 1:\n",
        "            contador += 1  \n",
        "        dict[letra] += 1  \n",
        "    else:\n",
        "        dict[letra] = 1  \n",
        "\n",
        "dict.pop(\" \")\n",
        "mensaje2 = mensaje\n",
        "cont = 0\n",
        "dicc = {}\n",
        "for g in range(22):\n",
        "    a = max(dict.values())\n",
        "    b = list(dict.values())\n",
        "    c = list(dict.keys())\n",
        "    for x in range(len(b)):\n",
        "        if b[x] == a:\n",
        "            d = c[x]\n",
        "    a = max(dict.values())\n",
        "    b = list(dict.values())\n",
        "    c = list(dict.keys())\n",
        "    mensaje2 = mensaje2.replace(d, ingles[g])\n",
        "\n",
        "    dict.pop(d)\n",
        "    dicc[d] = ingles[g]\n",
        "    print(dicc)\n",
        "print(mensaje)\n",
        "dicc[' '] = ' '\n",
        "resultado = \"\"\n",
        "for l in mensaje:\n",
        "    resultado += dicc[l]\n",
        "print('mensaje_descifrado:')\n",
        "print(resultado)\n"
      ]
    }
  ]
}